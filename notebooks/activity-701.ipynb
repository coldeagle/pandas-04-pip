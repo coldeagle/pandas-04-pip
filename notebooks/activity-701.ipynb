{
 "cells": [
  {
   "cell_type": "code",
   "execution_count": 44,
   "metadata": {
    "collapsed": true
   },
   "outputs": [
    {
     "data": {
      "text/plain": "                     mean  sum\nschool sex age                \nGP     F   15    3.894737  148\n           16    5.888889  318\n           17    7.120000  356\n           18    8.137931  236\n           19   13.083333  157\n       M   15    2.863636  126\n           16    4.980000  249\n           17    6.138889  221\n           18    6.500000  182\n           19   12.166667   73\n           20    0.000000    0\n           22   16.000000   16\nMS     F   17    5.625000   45\n           18    1.785714   25\n           19    2.000000    4\n           20    4.000000    4\n       M   17    2.750000   11\n           18    4.818182   53\n           19    4.250000   17\n           20   11.000000   11\n           21    3.000000    3",
      "text/html": "<div>\n<style scoped>\n    .dataframe tbody tr th:only-of-type {\n        vertical-align: middle;\n    }\n\n    .dataframe tbody tr th {\n        vertical-align: top;\n    }\n\n    .dataframe thead th {\n        text-align: right;\n    }\n</style>\n<table border=\"1\" class=\"dataframe\">\n  <thead>\n    <tr style=\"text-align: right;\">\n      <th></th>\n      <th></th>\n      <th></th>\n      <th>mean</th>\n      <th>sum</th>\n    </tr>\n    <tr>\n      <th>school</th>\n      <th>sex</th>\n      <th>age</th>\n      <th></th>\n      <th></th>\n    </tr>\n  </thead>\n  <tbody>\n    <tr>\n      <th rowspan=\"12\" valign=\"top\">GP</th>\n      <th rowspan=\"5\" valign=\"top\">F</th>\n      <th>15</th>\n      <td>3.894737</td>\n      <td>148</td>\n    </tr>\n    <tr>\n      <th>16</th>\n      <td>5.888889</td>\n      <td>318</td>\n    </tr>\n    <tr>\n      <th>17</th>\n      <td>7.120000</td>\n      <td>356</td>\n    </tr>\n    <tr>\n      <th>18</th>\n      <td>8.137931</td>\n      <td>236</td>\n    </tr>\n    <tr>\n      <th>19</th>\n      <td>13.083333</td>\n      <td>157</td>\n    </tr>\n    <tr>\n      <th rowspan=\"7\" valign=\"top\">M</th>\n      <th>15</th>\n      <td>2.863636</td>\n      <td>126</td>\n    </tr>\n    <tr>\n      <th>16</th>\n      <td>4.980000</td>\n      <td>249</td>\n    </tr>\n    <tr>\n      <th>17</th>\n      <td>6.138889</td>\n      <td>221</td>\n    </tr>\n    <tr>\n      <th>18</th>\n      <td>6.500000</td>\n      <td>182</td>\n    </tr>\n    <tr>\n      <th>19</th>\n      <td>12.166667</td>\n      <td>73</td>\n    </tr>\n    <tr>\n      <th>20</th>\n      <td>0.000000</td>\n      <td>0</td>\n    </tr>\n    <tr>\n      <th>22</th>\n      <td>16.000000</td>\n      <td>16</td>\n    </tr>\n    <tr>\n      <th rowspan=\"9\" valign=\"top\">MS</th>\n      <th rowspan=\"4\" valign=\"top\">F</th>\n      <th>17</th>\n      <td>5.625000</td>\n      <td>45</td>\n    </tr>\n    <tr>\n      <th>18</th>\n      <td>1.785714</td>\n      <td>25</td>\n    </tr>\n    <tr>\n      <th>19</th>\n      <td>2.000000</td>\n      <td>4</td>\n    </tr>\n    <tr>\n      <th>20</th>\n      <td>4.000000</td>\n      <td>4</td>\n    </tr>\n    <tr>\n      <th rowspan=\"5\" valign=\"top\">M</th>\n      <th>17</th>\n      <td>2.750000</td>\n      <td>11</td>\n    </tr>\n    <tr>\n      <th>18</th>\n      <td>4.818182</td>\n      <td>53</td>\n    </tr>\n    <tr>\n      <th>19</th>\n      <td>4.250000</td>\n      <td>17</td>\n    </tr>\n    <tr>\n      <th>20</th>\n      <td>11.000000</td>\n      <td>11</td>\n    </tr>\n    <tr>\n      <th>21</th>\n      <td>3.000000</td>\n      <td>3</td>\n    </tr>\n  </tbody>\n</table>\n</div>"
     },
     "execution_count": 44,
     "metadata": {},
     "output_type": "execute_result"
    }
   ],
   "source": [
    "# Step 2\n",
    "import pandas as pd\n",
    "\n",
    "# Step 3\n",
    "file_path = 'https://raw.githubusercontent.com/PacktWorkshops/The-Pandas-Workshop/master/Chapter07/Data/student-mat.csv'\n",
    "df = pd.read_csv(file_path, delimiter=';')\n",
    "\n",
    "# Step 4\n",
    "df = df[[\n",
    "    'school', 'sex', 'age', 'address', 'health', 'absences', 'G1', 'G2', 'G3'\n",
    "]]\n",
    "\n",
    "# Step 5\n",
    "df.head(10)\n",
    "\n",
    "# Step 6\n",
    "pd.pivot_table(df, index='school', values=['age','health','health', 'absences', 'G1', 'G2', 'G3'])\n",
    "\n",
    "# Step 7\n",
    "pd.pivot_table(df, index=['school', 'age'], values=['health','health', 'absences', 'G1', 'G2', 'G3'])\n",
    "\n",
    "# Step 8\n",
    "pd.pivot_table(df, index=['school', 'sex', 'age'], values='absences', aggfunc={'mean', 'sum'})\n"
   ]
  }
 ],
 "metadata": {
  "kernelspec": {
   "display_name": "Python 3",
   "language": "python",
   "name": "python3"
  },
  "language_info": {
   "codemirror_mode": {
    "name": "ipython",
    "version": 2
   },
   "file_extension": ".py",
   "mimetype": "text/x-python",
   "name": "python",
   "nbconvert_exporter": "python",
   "pygments_lexer": "ipython2",
   "version": "2.7.6"
  }
 },
 "nbformat": 4,
 "nbformat_minor": 0
}
